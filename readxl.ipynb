{
 "cells": [
  {
   "cell_type": "markdown",
   "metadata": {},
   "source": [
    "This is a playground for the final xl2md.py."
   ]
  },
  {
   "cell_type": "code",
   "execution_count": 2,
   "metadata": {},
   "outputs": [],
   "source": [
    "# openpyxl requied\n",
    "import pandas as pd"
   ]
  },
  {
   "cell_type": "code",
   "execution_count": 28,
   "metadata": {},
   "outputs": [],
   "source": [
    "# use the second row as the column name\n",
    "# ignore the third and forth row\n",
    "# pandas's read_excel is based on openpyxl\n",
    "df = pd.read_excel('example.xlsx', header=1, skiprows=[2,3])\n"
   ]
  },
  {
   "cell_type": "code",
   "execution_count": 101,
   "metadata": {},
   "outputs": [],
   "source": [
    "# truncate the last two rows of df\n",
    "df = df[:-2]"
   ]
  },
  {
   "cell_type": "code",
   "execution_count": 110,
   "metadata": {},
   "outputs": [],
   "source": [
    "# define a markdown front matter\n",
    "front_matter=\"\"\"---\n",
    "marp: true\n",
    "theme: uncover\n",
    "class: invert\n",
    "---\n",
    "\n",
    "<style>\n",
    "  table {\n",
    "    font-size: 30px;\n",
    "  }\n",
    "  th,td {\n",
    "    border: none!important;\n",
    "  }\n",
    "</style>\n",
    "\"\"\"\n",
    "\n",
    "# create a new markdown file named program prensentation which begins with the `front_matter`\n",
    "with open('program_presentation.md', 'w') as f:\n",
    "    f.write(front_matter)\n"
   ]
  },
  {
   "cell_type": "code",
   "execution_count": 111,
   "metadata": {},
   "outputs": [],
   "source": [
    "# the first page of the program presentation \n",
    "frontpage = \"\"\"# 时光流转 琴音不辍\n",
    "浙江大学研究生艺术团钢琴音乐会\n",
    "\"\"\"\n",
    "\n",
    "# write the frontpage\n",
    "with open('program_presentation.md', 'a') as f:\n",
    "    f.write(frontpage)\n",
    "    f.write('\\n---\\n')\n",
    "\n",
    "# the second page is warping\n",
    "warping = \"\"\"# 注意事项\n",
    "1. 请关闭您的手机或将您的手机调至静音状态\n",
    "1. 请勿使用闪光灯拍照、摄影\n",
    "1. 请妥善放置塑料袋等容易发出声响的物品\n",
    "1. 在演出期间，请您尽量避免在场内来回走动\n",
    "\"\"\"\n",
    "\n",
    "# write the warping page\n",
    "with open('program_presentation.md', 'a') as f:\n",
    "    f.write(warping)\n",
    "    f.write('\\n---\\n')"
   ]
  },
  {
   "cell_type": "code",
   "execution_count": 112,
   "metadata": {},
   "outputs": [],
   "source": [
    "# for each row in df, conver it and write to the markdown file as follows\n",
    "# 曲目中文名 --> ### 曲目中文名\n",
    "# 曲目英文名 --> **曲目英文名**\n",
    "# 作曲家中文 作曲家英文 --> ##### 作曲家中文 作曲家英文\n",
    "# 表演者 表演者拼音 --->\n",
    "# |       |      |\n",
    "# | :-----|:------|\n",
    "# | 表演者 | 表演者 |\n",
    "# | Performer | 表演者拼音 |\n",
    "# and end with --- except the last row\n",
    "\n",
    "with open('program_presentation.md', 'a') as f:\n",
    "    for index, row in df.iterrows():\n",
    "\n",
    "        if row[\"曲目中文名\"] == \"中场休息\":\n",
    "            \n",
    "            f.write(f'# {row[\"曲目中文名\"]}\\n')\n",
    "            f.write(f'10分钟\\n')\n",
    "\n",
    "\n",
    "        else:\n",
    "            f.write(f'### {row[\"曲目中文名\"]}\\n')\n",
    "            f.write(f'**{row[\"曲目英文名\"]}**\\n')\n",
    "            f.write(f'##### {row[\"作曲家中文\"]} {row[\"作曲家英文\"]}\\n')\n",
    "            f.write(f'|       |      |\\n')\n",
    "            f.write(f'| :-----|:------|\\n')\n",
    "            f.write(f'| 表演者 | {row[\"表演者\"]} |\\n')\n",
    "            f.write(f'| Performer | {row[\"表演者拼音\"]} |\\n')\n",
    "\n",
    "        f.write('\\n---\\n')\n"
   ]
  },
  {
   "cell_type": "code",
   "execution_count": 29,
   "metadata": {},
   "outputs": [
    {
     "ename": "NameError",
     "evalue": "name 'frontpage' is not defined",
     "output_type": "error",
     "traceback": [
      "\u001b[0;31m---------------------------------------------------------------------------\u001b[0m",
      "\u001b[0;31mNameError\u001b[0m                                 Traceback (most recent call last)",
      "\u001b[1;32m/Users/leizungjyun/Documents/piano group/readxl.ipynb Cell 8\u001b[0m line \u001b[0;36m3\n\u001b[1;32m      <a href='vscode-notebook-cell:/Users/leizungjyun/Documents/piano%20group/readxl.ipynb#X10sZmlsZQ%3D%3D?line=0'>1</a>\u001b[0m \u001b[39m# the last page is the same as the front page\u001b[39;00m\n\u001b[1;32m      <a href='vscode-notebook-cell:/Users/leizungjyun/Documents/piano%20group/readxl.ipynb#X10sZmlsZQ%3D%3D?line=1'>2</a>\u001b[0m \u001b[39mwith\u001b[39;00m \u001b[39mopen\u001b[39m(\u001b[39m'\u001b[39m\u001b[39mprogram_presentation.md\u001b[39m\u001b[39m'\u001b[39m, \u001b[39m'\u001b[39m\u001b[39ma\u001b[39m\u001b[39m'\u001b[39m) \u001b[39mas\u001b[39;00m f:\n\u001b[0;32m----> <a href='vscode-notebook-cell:/Users/leizungjyun/Documents/piano%20group/readxl.ipynb#X10sZmlsZQ%3D%3D?line=2'>3</a>\u001b[0m     f\u001b[39m.\u001b[39mwrite(frontpage)\n",
      "\u001b[0;31mNameError\u001b[0m: name 'frontpage' is not defined"
     ]
    }
   ],
   "source": [
    "# the last page is the same as the front page\n",
    "with open('program_presentation.md', 'a') as f:\n",
    "    f.write(frontpage)"
   ]
  },
  {
   "cell_type": "code",
   "execution_count": null,
   "metadata": {},
   "outputs": [],
   "source": []
  },
  {
   "cell_type": "code",
   "execution_count": 40,
   "metadata": {},
   "outputs": [],
   "source": [
    "# for each row in df, convert it and write to a tex file called pieces.tex as follows\n",
    "# \\piece{曲目中文名}{曲目英文名}{作曲家中文}{作曲家英文}{表演者}{表演者拼音}{改编者}\n",
    "\n",
    "intermission=\"\"\"\\\\noindent\\\\begin{center}\\\\normalsize \\hspace{-1.5cm} 中场休息 Intermission\\\\end{center}\n",
    "\\\\vspace{0.3cm}\n",
    "\"\"\"\n",
    "\n",
    "with open('pieces.tex', 'w') as f:\n",
    "    for index, row in df.iterrows():\n",
    "        if row[\"曲目中文名\"] == \"中场休息\":\n",
    "            f.write(intermission)\n",
    "        else:\n",
    "            \n",
    "            # if row[\"改编者\"] is NAN\n",
    "            if row[\"改编者\"] == row[\"改编者\"]:\n",
    "                f.write(f'\\\\piece{{{row[\"曲目中文名\"]}}}{{{row[\"曲目英文名\"]}}}{{{row[\"作曲家中文\"]}}}{{{row[\"作曲家英文\"]}}}{{{row[\"表演者\"]}}}{{{row[\"表演者拼音\"]}}}{{{row[\"改编者\"]}}}\\n\\n')\n",
    "            else:\n",
    "                f.write(f'\\\\piece{{{row[\"曲目中文名\"]}}}{{{row[\"曲目英文名\"]}}}{{{row[\"作曲家中文\"]}}}{{{row[\"作曲家英文\"]}}}{{{row[\"表演者\"]}}}{{{row[\"表演者拼音\"]}}}{{}}\\n\\n')\n",
    "\n"
   ]
  },
  {
   "cell_type": "code",
   "execution_count": null,
   "metadata": {},
   "outputs": [],
   "source": []
  },
  {
   "cell_type": "code",
   "execution_count": null,
   "metadata": {},
   "outputs": [],
   "source": []
  },
  {
   "cell_type": "code",
   "execution_count": null,
   "metadata": {},
   "outputs": [],
   "source": []
  },
  {
   "cell_type": "code",
   "execution_count": null,
   "metadata": {},
   "outputs": [],
   "source": []
  },
  {
   "cell_type": "code",
   "execution_count": null,
   "metadata": {},
   "outputs": [],
   "source": []
  }
 ],
 "metadata": {
  "kernelspec": {
   "display_name": "d2l",
   "language": "python",
   "name": "python3"
  },
  "language_info": {
   "codemirror_mode": {
    "name": "ipython",
    "version": 3
   },
   "file_extension": ".py",
   "mimetype": "text/x-python",
   "name": "python",
   "nbconvert_exporter": "python",
   "pygments_lexer": "ipython3",
   "version": "3.11.4"
  }
 },
 "nbformat": 4,
 "nbformat_minor": 2
}
